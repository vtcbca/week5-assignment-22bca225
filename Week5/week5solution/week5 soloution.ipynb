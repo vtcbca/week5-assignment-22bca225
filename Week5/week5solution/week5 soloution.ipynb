{
 "cells": [
  {
   "cell_type": "code",
   "execution_count": 1,
   "id": "0e51da9a",
   "metadata": {},
   "outputs": [],
   "source": [
    "import csv"
   ]
  },
  {
   "cell_type": "code",
   "execution_count": 2,
   "id": "750b3606",
   "metadata": {},
   "outputs": [],
   "source": [
    "a=['sid','sname','city','contact']"
   ]
  },
  {
   "cell_type": "code",
   "execution_count": 5,
   "id": "9e1b5a69",
   "metadata": {},
   "outputs": [],
   "source": [
    "records=[[1,'dev','jokha',8758332658],\n",
    "         [2,'yash','bardoli',9909245789],\n",
    "         [3,'sunny','suarat',8141181876],\n",
    "         [4,'mihir','kamrej',9909283010],\n",
    "         [5,'vishal','ahemdabad',9930452161]]\n",
    "p=[]"
   ]
  },
  {
   "cell_type": "code",
   "execution_count": 11,
   "id": "f7542947",
   "metadata": {},
   "outputs": [
    {
     "name": "stdout",
     "output_type": "stream",
     "text": [
      "enter student id:6\n",
      "enter student name:sujal\n",
      "enter student city:bardoli\n",
      "enter student contact number:6598712345\n",
      "enter student id:7\n",
      "enter student name:kenil\n",
      "enter student city:kamrej\n",
      "enter student contact number:7895645621\n",
      "enter student id:8\n",
      "enter student name:megh\n",
      "enter student city:kosamba\n",
      "enter student contact number:7896589564\n",
      "enter student id:9\n",
      "enter student name:arav\n",
      "enter student city:bardoli\n",
      "enter student contact number:9789556423\n",
      "enter student id:10\n",
      "enter student name:naitik\n",
      "enter student city:kim\n",
      "enter student contact number:6589746210\n"
     ]
    }
   ],
   "source": [
    "for i in range(5):\n",
    "    sid=int(input(\"enter student id:\"))\n",
    "    sname=input(\"enter student name:\")\n",
    "    city=input(\"enter student city:\")\n",
    "    contact=int(input(\"enter student contact number:\"))\n",
    "    l=[sid,sname,city,contact]\n",
    "    p.append(l)"
   ]
  },
  {
   "cell_type": "code",
   "execution_count": 19,
   "id": "7c9365a2",
   "metadata": {},
   "outputs": [],
   "source": [
    "with open('C:\\sqlite3\\student.csv','w',newline='') as f:\n",
    "    file=csv.writer(f)\n",
    "    file.writerow(a)\n",
    "    file.writerows(records)\n",
    "    file.writerows(p)"
   ]
  },
  {
   "cell_type": "code",
   "execution_count": null,
   "id": "b25ac86c",
   "metadata": {},
   "outputs": [],
   "source": []
  }
 ],
 "metadata": {
  "kernelspec": {
   "display_name": "Python 3 (ipykernel)",
   "language": "python",
   "name": "python3"
  },
  "language_info": {
   "codemirror_mode": {
    "name": "ipython",
    "version": 3
   },
   "file_extension": ".py",
   "mimetype": "text/x-python",
   "name": "python",
   "nbconvert_exporter": "python",
   "pygments_lexer": "ipython3",
   "version": "3.9.6"
  }
 },
 "nbformat": 4,
 "nbformat_minor": 5
}
